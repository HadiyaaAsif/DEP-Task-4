{
 "cells": [
  {
   "cell_type": "code",
   "execution_count": 3,
   "id": "f1c5cbb9-fdec-4639-94ba-a67b77301d9c",
   "metadata": {},
   "outputs": [
    {
     "name": "stdout",
     "output_type": "stream",
     "text": [
      "<class 'pandas.core.frame.DataFrame'>\n",
      "RangeIndex: 282 entries, 0 to 281\n",
      "Data columns (total 16 columns):\n",
      " #   Column               Non-Null Count  Dtype \n",
      "---  ------               --------------  ----- \n",
      " 0   bytes_in             282 non-null    int64 \n",
      " 1   bytes_out            282 non-null    int64 \n",
      " 2   creation_time        282 non-null    object\n",
      " 3   end_time             282 non-null    object\n",
      " 4   src_ip               282 non-null    object\n",
      " 5   src_ip_country_code  282 non-null    object\n",
      " 6   protocol             282 non-null    object\n",
      " 7   response.code        282 non-null    int64 \n",
      " 8   dst_port             282 non-null    int64 \n",
      " 9   dst_ip               282 non-null    object\n",
      " 10  rule_names           282 non-null    object\n",
      " 11  observation_name     282 non-null    object\n",
      " 12  source.meta          282 non-null    object\n",
      " 13  source.name          282 non-null    object\n",
      " 14  time                 282 non-null    object\n",
      " 15  detection_types      282 non-null    object\n",
      "dtypes: int64(4), object(12)\n",
      "memory usage: 35.4+ KB\n",
      "None\n",
      "   bytes_in  bytes_out         creation_time              end_time  \\\n",
      "0      5602      12990  2024-04-25T23:00:00Z  2024-04-25T23:10:00Z   \n",
      "1     30912      18186  2024-04-25T23:00:00Z  2024-04-25T23:10:00Z   \n",
      "2     28506      13468  2024-04-25T23:00:00Z  2024-04-25T23:10:00Z   \n",
      "3     30546      14278  2024-04-25T23:00:00Z  2024-04-25T23:10:00Z   \n",
      "4      6526      13892  2024-04-25T23:00:00Z  2024-04-25T23:10:00Z   \n",
      "\n",
      "            src_ip src_ip_country_code protocol  response.code  dst_port  \\\n",
      "0   147.161.161.82                  AE    HTTPS            200       443   \n",
      "1     165.225.33.6                  US    HTTPS            200       443   \n",
      "2  165.225.212.255                  CA    HTTPS            200       443   \n",
      "3   136.226.64.114                  US    HTTPS            200       443   \n",
      "4   165.225.240.79                  NL    HTTPS            200       443   \n",
      "\n",
      "         dst_ip              rule_names                      observation_name  \\\n",
      "0  10.138.69.97  Suspicious Web Traffic  Adversary Infrastructure Interaction   \n",
      "1  10.138.69.97  Suspicious Web Traffic  Adversary Infrastructure Interaction   \n",
      "2  10.138.69.97  Suspicious Web Traffic  Adversary Infrastructure Interaction   \n",
      "3  10.138.69.97  Suspicious Web Traffic  Adversary Infrastructure Interaction   \n",
      "4  10.138.69.97  Suspicious Web Traffic  Adversary Infrastructure Interaction   \n",
      "\n",
      "    source.meta     source.name                  time detection_types  \n",
      "0  AWS_VPC_Flow  prod_webserver  2024-04-25T23:00:00Z        waf_rule  \n",
      "1  AWS_VPC_Flow  prod_webserver  2024-04-25T23:00:00Z        waf_rule  \n",
      "2  AWS_VPC_Flow  prod_webserver  2024-04-25T23:00:00Z        waf_rule  \n",
      "3  AWS_VPC_Flow  prod_webserver  2024-04-25T23:00:00Z        waf_rule  \n",
      "4  AWS_VPC_Flow  prod_webserver  2024-04-25T23:00:00Z        waf_rule  \n",
      "bytes_in               0\n",
      "bytes_out              0\n",
      "creation_time          0\n",
      "end_time               0\n",
      "src_ip                 0\n",
      "src_ip_country_code    0\n",
      "protocol               0\n",
      "response.code          0\n",
      "dst_port               0\n",
      "dst_ip                 0\n",
      "rule_names             0\n",
      "observation_name       0\n",
      "source.meta            0\n",
      "source.name            0\n",
      "time                   0\n",
      "detection_types        0\n",
      "dtype: int64\n",
      "<class 'pandas.core.frame.DataFrame'>\n",
      "RangeIndex: 282 entries, 0 to 281\n",
      "Data columns (total 16 columns):\n",
      " #   Column               Non-Null Count  Dtype \n",
      "---  ------               --------------  ----- \n",
      " 0   bytes_in             282 non-null    int64 \n",
      " 1   bytes_out            282 non-null    int64 \n",
      " 2   creation_time        282 non-null    object\n",
      " 3   end_time             282 non-null    object\n",
      " 4   src_ip               282 non-null    object\n",
      " 5   src_ip_country_code  282 non-null    object\n",
      " 6   protocol             282 non-null    object\n",
      " 7   response.code        282 non-null    int64 \n",
      " 8   dst_port             282 non-null    int64 \n",
      " 9   dst_ip               282 non-null    object\n",
      " 10  rule_names           282 non-null    object\n",
      " 11  observation_name     282 non-null    object\n",
      " 12  source.meta          282 non-null    object\n",
      " 13  source.name          282 non-null    object\n",
      " 14  time                 282 non-null    object\n",
      " 15  detection_types      282 non-null    object\n",
      "dtypes: int64(4), object(12)\n",
      "memory usage: 35.4+ KB\n",
      "None\n"
     ]
    }
   ],
   "source": [
    "import pandas as pd\n",
    "data = pd.read_csv('CloudWatch_Traffic_Web_Attack.csv')\n",
    "\n",
    "print(data.info())\n",
    "print(data.head())\n",
    "\n",
    "print(data.isnull().sum())\n",
    "data = data.dropna()\n",
    "\n",
    "if 'timestamp' in data.columns:\n",
    "    data['timestamp'] = pd.to_datetime(data['timestamp'])\n",
    "\n",
    "print(data.info())"
   ]
  },
  {
   "cell_type": "code",
   "execution_count": 5,
   "id": "5a6a0273-0312-4804-a4e6-46d5870b568e",
   "metadata": {},
   "outputs": [
    {
     "name": "stdout",
     "output_type": "stream",
     "text": [
      "Empty DataFrame\n",
      "Columns: []\n",
      "Index: []\n"
     ]
    }
   ],
   "source": [
    "if 'packet_size' in data.columns:\n",
    "    features = data[['packet_size']]\n",
    "else:\n",
    "    features = pd.DataFrame()\n",
    "if 'timestamp' in data.columns:\n",
    "    data['time_diff'] = data['timestamp'].diff().dt.total_seconds().fillna(0)\n",
    "    features['time_diff'] = data['time_diff']\n",
    "\n",
    "print(features.head())"
   ]
  },
  {
   "cell_type": "code",
   "execution_count": 11,
   "id": "8ba96ca4-42ab-4734-8477-cf3e47f6a3b0",
   "metadata": {},
   "outputs": [
    {
     "name": "stdout",
     "output_type": "stream",
     "text": [
      "Error: Features DataFrame is empty, cannot fit Isolation Forest model.\n"
     ]
    }
   ],
   "source": [
    "from sklearn.ensemble import IsolationForest\n",
    "\n",
    "if not features.empty:\n",
    "    isolation_forest = IsolationForest(contamination=0.01) \n",
    "    isolation_forest.fit(features)\n",
    "\n",
    "    anomalies = isolation_forest.predict(features)\n",
    "    data['anomaly_isolation_forest'] = anomalies\n",
    "\n",
    "    print(data['anomaly_isolation_forest'].value_counts())\n",
    "else:\n",
    "    print(\"Error: Features DataFrame is empty, cannot fit Isolation Forest model.\")"
   ]
  },
  {
   "cell_type": "code",
   "execution_count": 13,
   "id": "25d662e5-3887-4d45-a172-21e263fd6c22",
   "metadata": {},
   "outputs": [],
   "source": [
    "import pandas as pd\n",
    "from sklearn.metrics import confusion_matrix, classification_report\n",
    "\n",
    "data = pd.read_csv('CloudWatch_Traffic_Web_Attack.csv')\n",
    "\n",
    "from sklearn.metrics import confusion_matrix, classification_report\n",
    "\n",
    "if 'true_labels' in data.columns:\n",
    "    true_labels = data['true_labels']\n",
    "\n",
    "    if 'anomaly_isolation_forest' in data.columns:\n",
    "        print(\"Isolation Forest Evaluation:\")\n",
    "        print(confusion_matrix(true_labels, data['anomaly_isolation_forest']))\n",
    "        print(classification_report(true_labels, data['anomaly_isolation_forest']))"
   ]
  },
  {
   "cell_type": "code",
   "execution_count": null,
   "id": "41b02d89-4e8b-4ced-8a42-a04fb7843229",
   "metadata": {},
   "outputs": [],
   "source": []
  }
 ],
 "metadata": {
  "kernelspec": {
   "display_name": "Python 3 (ipykernel)",
   "language": "python",
   "name": "python3"
  },
  "language_info": {
   "codemirror_mode": {
    "name": "ipython",
    "version": 3
   },
   "file_extension": ".py",
   "mimetype": "text/x-python",
   "name": "python",
   "nbconvert_exporter": "python",
   "pygments_lexer": "ipython3",
   "version": "3.12.4"
  }
 },
 "nbformat": 4,
 "nbformat_minor": 5
}
